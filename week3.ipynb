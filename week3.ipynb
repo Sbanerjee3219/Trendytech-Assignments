{
 "cells": [
  {
   "cell_type": "code",
   "execution_count": 77,
   "id": "8f81c8bc",
   "metadata": {},
   "outputs": [],
   "source": [
    "from pyspark.sql import SparkSession\n",
    "from pyspark.sql.window import Window as W\n",
    "import pyspark.sql.functions as f\n",
    "from pyspark.sql.types import *\n",
    "\n",
    "import getpass\n",
    "\n",
    "username = getpass.getuser()\n",
    "spark = SparkSession. \\\n",
    "builder. \\\n",
    "config('spark.ui.port','0'). \\\n",
    "config(\"spark.sql.warehouse.dir\", f\"/user/{username}/warehouse\"). \\\n",
    "enableHiveSupport(). \\\n",
    "master('yarn'). \\\n",
    "getOrCreate()"
   ]
  },
  {
   "cell_type": "markdown",
   "id": "f2949acc",
   "metadata": {},
   "source": [
    "#### Create logic for linkedIn profile views in Apache Spark"
   ]
  },
  {
   "cell_type": "code",
   "execution_count": 9,
   "id": "ebeb2118",
   "metadata": {},
   "outputs": [
    {
     "data": {
      "text/plain": [
       "['1,Manasa,Sumit',\n",
       " '2,Deepa,Sumit',\n",
       " '3,Sumit,Manasa',\n",
       " '4,Manasa,Deepa',\n",
       " '5,Deepa,Manasa']"
      ]
     },
     "execution_count": 9,
     "metadata": {},
     "output_type": "execute_result"
    }
   ],
   "source": [
    "#reading data\n",
    "rdd1=spark.sparkContext.textFile(\"/user/itv009481/data/linkedin_profile.csv\")\n",
    "rdd1.take(5)"
   ]
  },
  {
   "cell_type": "code",
   "execution_count": 10,
   "id": "c7178848",
   "metadata": {},
   "outputs": [
    {
     "data": {
      "text/plain": [
       "[('Sumit', 1), ('Sumit', 1), ('Manasa', 1), ('Deepa', 1), ('Manasa', 1)]"
      ]
     },
     "execution_count": 10,
     "metadata": {},
     "output_type": "execute_result"
    }
   ],
   "source": [
    "#How many times profile is viewed? \n",
    "#hence only last column is required\n",
    "rdd2= rdd1.map(lambda x: (x.split(\",\")[2],1))\n",
    "rdd2.take(5)"
   ]
  },
  {
   "cell_type": "code",
   "execution_count": 28,
   "id": "922e8096",
   "metadata": {},
   "outputs": [
    {
     "data": {
      "text/plain": [
       "[('Manasa', 3), ('Sumit', 2), ('Deepa', 1)]"
      ]
     },
     "execution_count": 28,
     "metadata": {},
     "output_type": "execute_result"
    }
   ],
   "source": [
    "#Getting count of distinct names\n",
    "rdd3=rdd2.reduceByKey(lambda x,y:x+y)\n",
    "rdd4=rdd3.sortBy(lambda x: x[1],ascending=False)\n",
    "rdd4.take(5)"
   ]
  },
  {
   "cell_type": "code",
   "execution_count": 29,
   "id": "1e8e5f4c",
   "metadata": {},
   "outputs": [
    {
     "data": {
      "text/plain": [
       "[('Manasa', 3), ('Sumit', 2), ('Deepa', 1)]"
      ]
     },
     "execution_count": 29,
     "metadata": {},
     "output_type": "execute_result"
    }
   ],
   "source": [
    "#Alternate Approach if output is no longer needed\n",
    "sorted(rdd2.countByKey().items(),key=lambda x: x[1],reverse=True)"
   ]
  },
  {
   "cell_type": "code",
   "execution_count": 32,
   "id": "b539e6f9",
   "metadata": {},
   "outputs": [],
   "source": [
    "#Saving to output file \n",
    "rdd4.saveAsTextFile('/user/itv009481/data/assignment/assignment1_op/')"
   ]
  },
  {
   "cell_type": "markdown",
   "id": "8b33c573",
   "metadata": {},
   "source": [
    "#### Another Word Count Problem"
   ]
  },
  {
   "cell_type": "code",
   "execution_count": 78,
   "id": "c13fc890",
   "metadata": {},
   "outputs": [
    {
     "data": {
      "text/plain": [
       "[\"Reading books is a wonderful pastime that has numerous benefits for individuals of all ages. Whether you're a child just learning to read or an adult seeking knowledge and entertainment, books can enrich your life in many ways.\",\n",
       " '',\n",
       " '1. Knowledge Expansion:',\n",
       " '   Reading books allows you to gain knowledge on a wide range of topics. You can explore history, science, philosophy, and more by delving into different books. The more you read, the more you learn.',\n",
       " '']"
      ]
     },
     "execution_count": 78,
     "metadata": {},
     "output_type": "execute_result"
    }
   ],
   "source": [
    "rdd1=spark.sparkContext.textFile(\"/user/itv009481/data/input_data.txt\")\n",
    "rdd1.take(5)"
   ]
  },
  {
   "cell_type": "code",
   "execution_count": 79,
   "id": "db8d64e8",
   "metadata": {},
   "outputs": [],
   "source": [
    "#Splitting based on space\n",
    "rdd2=rdd1.map(lambda x: x.split(\" \"))"
   ]
  },
  {
   "cell_type": "code",
   "execution_count": 80,
   "id": "d585e879",
   "metadata": {},
   "outputs": [
    {
     "data": {
      "text/plain": [
       "['Reading', 'books', 'is', 'a', 'wonderful']"
      ]
     },
     "execution_count": 80,
     "metadata": {},
     "output_type": "execute_result"
    }
   ],
   "source": [
    "rdd3=rdd2.flatMap(lambda x: x)\n",
    "rdd3.take(5)"
   ]
  },
  {
   "cell_type": "code",
   "execution_count": 82,
   "id": "c0c60043",
   "metadata": {},
   "outputs": [],
   "source": [
    "#Defining bad words\n",
    "rdd_bad=spark.sparkContext.parallelize(['','5.'])\n",
    "rdd_bad_brod=spark.sparkContext.broadcast(rdd_bad.collect())"
   ]
  },
  {
   "cell_type": "code",
   "execution_count": 89,
   "id": "2ddf4c27",
   "metadata": {},
   "outputs": [
    {
     "data": {
      "text/plain": [
       "['Reading', 'books', 'is', 'a', 'wonderful']"
      ]
     },
     "execution_count": 89,
     "metadata": {},
     "output_type": "execute_result"
    }
   ],
   "source": [
    "rdd4=rdd3.map(lambda x: 'Error' if x in rdd_bad_brod.value else x)\n",
    "rdd4.take(5)"
   ]
  },
  {
   "cell_type": "code",
   "execution_count": 90,
   "id": "f10091f6",
   "metadata": {},
   "outputs": [
    {
     "data": {
      "text/plain": [
       "[(5, 'Reading'), (5, 'books'), (2, 'is'), (1, 'wonderful'), (1, 'benefits')]"
      ]
     },
     "execution_count": 90,
     "metadata": {},
     "output_type": "execute_result"
    }
   ],
   "source": [
    "rdd4=rdd3.map(lambda x: (x,1))\n",
    "rdd5=rdd4.reduceByKey(lambda x,y: x+y)\n",
    "rdd6=rdd5.map(lambda x: (x[1],x[0]))\n",
    "rdd6.take(5)"
   ]
  },
  {
   "cell_type": "code",
   "execution_count": 91,
   "id": "bf301508",
   "metadata": {},
   "outputs": [
    {
     "data": {
      "text/plain": [
       "[(30, ''), (15, 'a'), (14, 'and'), (8, 'can'), (8, 'you')]"
      ]
     },
     "execution_count": 91,
     "metadata": {},
     "output_type": "execute_result"
    }
   ],
   "source": [
    "rdd6.sortByKey(False).take(5)"
   ]
  },
  {
   "cell_type": "markdown",
   "id": "117ccccb",
   "metadata": {},
   "source": [
    "#### Flat Map Example: Map vs Flat Map"
   ]
  },
  {
   "cell_type": "code",
   "execution_count": 49,
   "id": "5162a653",
   "metadata": {},
   "outputs": [
    {
     "data": {
      "text/plain": [
       "[(1, [1, 2, 3]), (2, [4, 5]), (3, [6])]"
      ]
     },
     "execution_count": 49,
     "metadata": {},
     "output_type": "execute_result"
    }
   ],
   "source": [
    "# Exploding an RDD of arrays into individual elements\n",
    "array_rdd = spark.sparkContext.parallelize([(1, [1, 2, 3]), (2, [4, 5]), (3, [6])])\n",
    "array_rdd.take(5)\n"
   ]
  },
  {
   "cell_type": "code",
   "execution_count": 47,
   "id": "7806ee3c",
   "metadata": {},
   "outputs": [
    {
     "data": {
      "text/plain": [
       "[(1, 1), (1, 2), (1, 3), (2, 4), (2, 5)]"
      ]
     },
     "execution_count": 47,
     "metadata": {},
     "output_type": "execute_result"
    }
   ],
   "source": [
    "mapped_rdd=array_rdd.map(lambda x: [(x[0], item) for item in x[1]])\n",
    "flattened_rdd = array_rdd.flatMap(lambda x: [(x[0], item) for item in x[1]])\n",
    "flattened_rdd.take(5)"
   ]
  },
  {
   "cell_type": "code",
   "execution_count": 48,
   "id": "a29f5285",
   "metadata": {},
   "outputs": [
    {
     "data": {
      "text/plain": [
       "[[(1, 1), (1, 2), (1, 3)], [(2, 4), (2, 5)], [(3, 6)]]"
      ]
     },
     "execution_count": 48,
     "metadata": {},
     "output_type": "execute_result"
    }
   ],
   "source": [
    "mapped_rdd.take(5)"
   ]
  },
  {
   "cell_type": "code",
   "execution_count": 92,
   "id": "357099bb",
   "metadata": {},
   "outputs": [],
   "source": [
    "spark.stop()"
   ]
  },
  {
   "cell_type": "code",
   "execution_count": null,
   "id": "5e5eeba1",
   "metadata": {},
   "outputs": [],
   "source": []
  }
 ],
 "metadata": {
  "kernelspec": {
   "display_name": "Pyspark 3",
   "language": "python",
   "name": "pyspark3"
  },
  "language_info": {
   "codemirror_mode": {
    "name": "ipython",
    "version": 3
   },
   "file_extension": ".py",
   "mimetype": "text/x-python",
   "name": "python",
   "nbconvert_exporter": "python",
   "pygments_lexer": "ipython3",
   "version": "3.6.12"
  }
 },
 "nbformat": 4,
 "nbformat_minor": 5
}
