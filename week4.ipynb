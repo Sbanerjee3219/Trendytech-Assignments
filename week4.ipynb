{
 "cells": [
  {
   "cell_type": "code",
   "execution_count": 21,
   "id": "dfde8b97",
   "metadata": {},
   "outputs": [],
   "source": [
    "from pyspark.sql import SparkSession\n",
    "from pyspark.sql.window import Window as W\n",
    "import pyspark.sql.functions as f\n",
    "from pyspark.sql.types import *\n",
    "\n",
    "import getpass\n",
    "\n",
    "username = getpass.getuser()\n",
    "spark = SparkSession. \\\n",
    "builder. \\\n",
    "config('spark.ui.port','0'). \\\n",
    "config(\"spark.sql.warehouse.dir\", f\"/user/{username}/warehouse\"). \\\n",
    "enableHiveSupport(). \\\n",
    "master('yarn'). \\\n",
    "appName('week4'). \\\n",
    "getOrCreate()"
   ]
  },
  {
   "cell_type": "markdown",
   "id": "24969ca5",
   "metadata": {},
   "source": [
    "#### Top 10 Premium Customer"
   ]
  },
  {
   "cell_type": "code",
   "execution_count": 22,
   "id": "99751eda",
   "metadata": {},
   "outputs": [],
   "source": [
    "#reading files\n",
    "orders=spark.sparkContext.textFile(\"/public/trendytech/retail_db/orders\")\n",
    "order_items=spark.sparkContext.textFile(\"/public/trendytech/retail_db/order_items\")\n",
    "customers=spark.sparkContext.textFile(\"/public/trendytech/retail_db/customers\")"
   ]
  },
  {
   "cell_type": "code",
   "execution_count": 45,
   "id": "4f6d90d4",
   "metadata": {},
   "outputs": [],
   "source": [
    "#Preparing dataset\n",
    "order_items_mapped=order_items.map(lambda x: (x.split(',')[1],float(x.split(',')[4])))\n",
    "orders_mapped=orders.map(lambda x: (x.split(',')[0],x.split(',')[2]))\n",
    "orders_rdd=orders_mapped.join(order_items_mapped)"
   ]
  },
  {
   "cell_type": "code",
   "execution_count": 46,
   "id": "8ce98abf",
   "metadata": {},
   "outputs": [
    {
     "data": {
      "text/plain": [
       "[('34566', ('3066', 250.0)),\n",
       " ('34566', ('3066', 179.97)),\n",
       " ('34577', ('7733', 299.98)),\n",
       " ('34577', ('7733', 299.95)),\n",
       " ('34577', ('7733', 299.98))]"
      ]
     },
     "execution_count": 46,
     "metadata": {},
     "output_type": "execute_result"
    }
   ],
   "source": [
    "orders_rdd.take(5)"
   ]
  },
  {
   "cell_type": "code",
   "execution_count": 47,
   "id": "2fe32688",
   "metadata": {},
   "outputs": [
    {
     "data": {
      "text/plain": [
       "[('8827', 49.98),\n",
       " ('8827', 299.95),\n",
       " ('8827', 150.0),\n",
       " ('8827', 199.92),\n",
       " ('5648', 199.99)]"
      ]
     },
     "execution_count": 47,
     "metadata": {},
     "output_type": "execute_result"
    }
   ],
   "source": [
    "#Now taking sum of all orders against customers\n",
    "cust_orders=orders_rdd.map(lambda x: (x[1][0],x[1][1]))\n",
    "cust_orders.take(5)"
   ]
  },
  {
   "cell_type": "code",
   "execution_count": 48,
   "id": "37cc57f8",
   "metadata": {},
   "outputs": [],
   "source": [
    "cust_tot_orders=cust_orders.reduceByKey(lambda x,y: x+y)"
   ]
  },
  {
   "cell_type": "code",
   "execution_count": 49,
   "id": "e091ac80",
   "metadata": {},
   "outputs": [],
   "source": [
    "#getting customer details\n",
    "customer_mapped=customers.map(lambda x: (x.split(\",\")[0],x.split(\",\")[1]))"
   ]
  },
  {
   "cell_type": "code",
   "execution_count": 50,
   "id": "24824d51",
   "metadata": {},
   "outputs": [
    {
     "data": {
      "text/plain": [
       "[('1737', (129.99, 'Mary')),\n",
       " ('1737', (129.99, 'Mary')),\n",
       " ('1737', (50.0, 'Mary')),\n",
       " ('1737', (129.99, 'Mary')),\n",
       " ('1737', (399.98, 'Mary'))]"
      ]
     },
     "execution_count": 50,
     "metadata": {},
     "output_type": "execute_result"
    }
   ],
   "source": [
    "#Join based on customer id\n",
    "final_rdd=cust_orders.join(customer_mapped)\n",
    "final_rdd.take(5)"
   ]
  },
  {
   "cell_type": "code",
   "execution_count": 51,
   "id": "f0954ac7",
   "metadata": {},
   "outputs": [
    {
     "data": {
      "text/plain": [
       "[('Matthew', 1999.99),\n",
       " ('Mary', 1999.99),\n",
       " ('Mary', 1999.99),\n",
       " ('Amber', 1999.99),\n",
       " ('Charles', 1999.99),\n",
       " ('Daniel', 1999.99),\n",
       " ('Mary', 1999.99),\n",
       " ('Teresa', 1999.99),\n",
       " ('Phillip', 1999.99),\n",
       " ('Helen', 1999.99)]"
      ]
     },
     "execution_count": 51,
     "metadata": {},
     "output_type": "execute_result"
    }
   ],
   "source": [
    "#Premium Customer\n",
    "final_rdd_sorted=final_rdd.sortBy(lambda x: x[1][0],ascending=False).map(lambda x: (x[1][1],x[1][0]))\n",
    "final_rdd_sorted.take(10)"
   ]
  },
  {
   "cell_type": "markdown",
   "id": "0570562f",
   "metadata": {},
   "source": [
    "#### 2.top 10 product id's with most quantities sold"
   ]
  },
  {
   "cell_type": "code",
   "execution_count": 53,
   "id": "c0271883",
   "metadata": {},
   "outputs": [],
   "source": [
    "order_items=spark.sparkContext.textFile(\"/public/trendytech/retail_db/order_items\")\n",
    "orders_map=order_items.map(lambda x: (x.split(',')[2],int(x.split(',')[3])))\n",
    "prod_quant=orders_map.reduceByKey(lambda x,y: x+y)"
   ]
  },
  {
   "cell_type": "code",
   "execution_count": 54,
   "id": "ce133082",
   "metadata": {},
   "outputs": [
    {
     "data": {
      "text/plain": [
       "[('365', 73698),\n",
       " ('502', 62956),\n",
       " ('1014', 57803),\n",
       " ('191', 36680),\n",
       " ('627', 31735),\n",
       " ('403', 22246),\n",
       " ('1004', 17325),\n",
       " ('1073', 15500),\n",
       " ('957', 13729),\n",
       " ('977', 998)]"
      ]
     },
     "execution_count": 54,
     "metadata": {},
     "output_type": "execute_result"
    }
   ],
   "source": [
    "prod_quant.sortBy(lambda x: x[1],ascending=False).take(10)"
   ]
  },
  {
   "cell_type": "markdown",
   "id": "f416ca8a",
   "metadata": {},
   "source": [
    "##### 3. how many customers are from Caguas city"
   ]
  },
  {
   "cell_type": "code",
   "execution_count": 4,
   "id": "1fb38810",
   "metadata": {},
   "outputs": [],
   "source": [
    "#understanding the data\n",
    "cust_cities=customers.map(lambda x: x.split(',')[6])\n",
    "cust_cag=cust_cities.filter(lambda x: x=='Caguas')"
   ]
  },
  {
   "cell_type": "code",
   "execution_count": 6,
   "id": "dfe2583d",
   "metadata": {},
   "outputs": [
    {
     "data": {
      "text/plain": [
       "4584"
      ]
     },
     "execution_count": 6,
     "metadata": {},
     "output_type": "execute_result"
    }
   ],
   "source": [
    "cust_cag.count()"
   ]
  },
  {
   "cell_type": "markdown",
   "id": "0c8c96d9",
   "metadata": {},
   "source": [
    "#### 4. Top 3 states with maximum customers"
   ]
  },
  {
   "cell_type": "code",
   "execution_count": 7,
   "id": "29777163",
   "metadata": {},
   "outputs": [
    {
     "data": {
      "text/plain": [
       "[('PR', 4771), ('CA', 2012), ('NY', 775), ('TX', 635), ('IL', 523)]"
      ]
     },
     "execution_count": 7,
     "metadata": {},
     "output_type": "execute_result"
    }
   ],
   "source": [
    "#understanding the data\n",
    "cust_states=customers.map(lambda x: (x.split(',')[7],1))\n",
    "state_wise_cust=cust_states.reduceByKey(lambda x,y: x+y)\n",
    "state_wise_cust_sorted= state_wise_cust.sortBy(lambda x: x[1],ascending=False)\n",
    "state_wise_cust_sorted.take(5)"
   ]
  },
  {
   "cell_type": "markdown",
   "id": "cae8bc34",
   "metadata": {},
   "source": [
    "#### 5. how many customers have spent more than $1000 in total"
   ]
  },
  {
   "cell_type": "code",
   "execution_count": 24,
   "id": "44c359f5",
   "metadata": {},
   "outputs": [
    {
     "data": {
      "text/plain": [
       "[('35214', 1319.8500000000001), ('35230', 1249.79)]"
      ]
     },
     "execution_count": 24,
     "metadata": {},
     "output_type": "execute_result"
    }
   ],
   "source": [
    "#Finding order_ids where total is greater than 1000\n",
    "order_subtotal=order_items.map(lambda x: (x.split(',')[1],float(x.split(',')[4])))\n",
    "order_total=order_subtotal.reduceByKey(lambda x,y: x+y)\n",
    "order_total.take(2)\n",
    "#Filtering records \n",
    "orders_filtered=order_total.filter(lambda x: x[1]>1000 )\n",
    "orders_filtered.take(2)"
   ]
  },
  {
   "cell_type": "code",
   "execution_count": 16,
   "id": "392eab11",
   "metadata": {},
   "outputs": [
    {
     "data": {
      "text/plain": [
       "['1,2013-07-25 00:00:00.0,11599,CLOSED',\n",
       " '2,2013-07-25 00:00:00.0,256,PENDING_PAYMENT']"
      ]
     },
     "execution_count": 16,
     "metadata": {},
     "output_type": "execute_result"
    }
   ],
   "source": [
    "orders.take(2)"
   ]
  },
  {
   "cell_type": "code",
   "execution_count": 26,
   "id": "f341f5c3",
   "metadata": {},
   "outputs": [
    {
     "data": {
      "text/plain": [
       "5655"
      ]
     },
     "execution_count": 26,
     "metadata": {},
     "output_type": "execute_result"
    }
   ],
   "source": [
    "#Getting customer ID\n",
    "orders_mapped=orders.map(lambda x: (x.split(',')[0],x.split(',')[2]))\n",
    "order_cust=orders_filtered.join(orders_mapped).map(lambda x: x[1][1])\n",
    "order_cust.distinct().count()"
   ]
  },
  {
   "cell_type": "markdown",
   "id": "b7706faa",
   "metadata": {},
   "source": [
    "#### 6. which state has most number of orders in CLOSED status"
   ]
  },
  {
   "cell_type": "code",
   "execution_count": 27,
   "id": "948e0a95",
   "metadata": {},
   "outputs": [
    {
     "data": {
      "text/plain": [
       "[('5834', ('CLOSED', 'PR')),\n",
       " ('5834', ('CLOSED', 'PR')),\n",
       " ('10173', ('CLOSED', 'PA')),\n",
       " ('6000', ('CLOSED', 'PR')),\n",
       " ('1352', ('CLOSED', 'MA'))]"
      ]
     },
     "execution_count": 27,
     "metadata": {},
     "output_type": "execute_result"
    }
   ],
   "source": [
    "#Filtering \n",
    "orders_mapped=orders.map(lambda x: (x.split(',')[2],x.split(',')[3]))\n",
    "orders_clsd=orders_mapped.filter(lambda x: x[1]=='CLOSED')\n",
    "#mapping customers\n",
    "cust_states=customers.map(lambda x: (x.split(',')[0],x.split(',')[7]))\n",
    "orders_cust=orders_clsd.join(cust_states).cache()\n",
    "orders_cust.take(5)"
   ]
  },
  {
   "cell_type": "code",
   "execution_count": 29,
   "id": "8fb39c31",
   "metadata": {},
   "outputs": [
    {
     "data": {
      "text/plain": [
       "[('PR', 2891)]"
      ]
     },
     "execution_count": 29,
     "metadata": {},
     "output_type": "execute_result"
    }
   ],
   "source": [
    "state_clsd=orders_cust.map(lambda x: (x[1][1],1))\n",
    "state_clsd_tot=state_clsd.reduceByKey(lambda x,y:x+y)\n",
    "state_clsd_tot=state_clsd_tot.sortBy(lambda x:x[1],ascending=False)\n",
    "state_clsd_tot.take(1)"
   ]
  },
  {
   "cell_type": "markdown",
   "id": "a151e229",
   "metadata": {},
   "source": [
    "#### 7. how many customers are active (active customers are the one's who placed atleast one order)"
   ]
  },
  {
   "cell_type": "code",
   "execution_count": 30,
   "id": "7ee59294",
   "metadata": {},
   "outputs": [
    {
     "data": {
      "text/plain": [
       "12405"
      ]
     },
     "execution_count": 30,
     "metadata": {},
     "output_type": "execute_result"
    }
   ],
   "source": [
    "orders_mapped=orders.map(lambda x: x.split(',')[2])\n",
    "orders_mapped.distinct().count()\n"
   ]
  },
  {
   "cell_type": "markdown",
   "id": "e87bfdf6",
   "metadata": {},
   "source": [
    "#### 8. What is the revenue generated by each state in sorted order."
   ]
  },
  {
   "cell_type": "code",
   "execution_count": 31,
   "id": "c0aa0479",
   "metadata": {},
   "outputs": [
    {
     "data": {
      "text/plain": [
       "[('34566', (429.97, '3066')),\n",
       " ('34577', (1039.88, '7733')),\n",
       " ('34583', (414.94, '1558')),\n",
       " ('34595', (129.99, '7248')),\n",
       " ('34599', (657.9300000000001, '12328'))]"
      ]
     },
     "execution_count": 31,
     "metadata": {},
     "output_type": "execute_result"
    }
   ],
   "source": [
    "#order wise revenue\n",
    "order_subtotal=order_items.map(lambda x: (x.split(',')[1],float(x.split(',')[4])))\n",
    "order_total=order_subtotal.reduceByKey(lambda x,y: x+y)\n",
    "\n",
    "#getting customer id\n",
    "orders_mapped=orders.map(lambda x: (x.split(',')[0],x.split(',')[2]))\n",
    "orders_cust=order_total.join(orders_mapped)\n",
    "\n",
    "orders_cust.take(5)"
   ]
  },
  {
   "cell_type": "code",
   "execution_count": 32,
   "id": "751748d6",
   "metadata": {},
   "outputs": [
    {
     "data": {
      "text/plain": [
       "PythonRDD[77] at RDD at PythonRDD.scala:53"
      ]
     },
     "execution_count": 32,
     "metadata": {},
     "output_type": "execute_result"
    }
   ],
   "source": [
    "orders_cust=orders_cust.map(lambda x: (x[1][1],x[1][0]))\n",
    "#getting state\n",
    "cust_states=customers.map(lambda x: (x.split(',')[0],x.split(',')[7]))\n",
    "orders_state=orders_cust.join(cust_states)\n",
    "orders_state.cache()"
   ]
  },
  {
   "cell_type": "code",
   "execution_count": 33,
   "id": "359b4ad4",
   "metadata": {},
   "outputs": [
    {
     "data": {
      "text/plain": [
       "[('6280', (519.94, 'PR')),\n",
       " ('6280', (1279.88, 'PR')),\n",
       " ('6280', (1014.96, 'PR')),\n",
       " ('6280', (559.9, 'PR')),\n",
       " ('1718', (266.0, 'NY'))]"
      ]
     },
     "execution_count": 33,
     "metadata": {},
     "output_type": "execute_result"
    }
   ],
   "source": [
    "orders_state.take(5)"
   ]
  },
  {
   "cell_type": "code",
   "execution_count": 35,
   "id": "eca7e284",
   "metadata": {},
   "outputs": [
    {
     "data": {
      "text/plain": [
       "[('PR', 13208867.68999965),\n",
       " ('CA', 5542722.999999965),\n",
       " ('NY', 2152706.739999999),\n",
       " ('TX', 1731407.4900000014),\n",
       " ('IL', 1457225.8300000015)]"
      ]
     },
     "execution_count": 35,
     "metadata": {},
     "output_type": "execute_result"
    }
   ],
   "source": [
    "state_orders=orders_state.map(lambda x:( x[1][1],x[1][0]))\n",
    "state_orders=state_orders.reduceByKey(lambda x,y: x+y)\n",
    "state_orders_sort=state_orders.sortBy(lambda x:x[1],ascending=False)\n",
    "state_orders_sort.take(5)"
   ]
  },
  {
   "cell_type": "code",
   "execution_count": null,
   "id": "38e69c04",
   "metadata": {},
   "outputs": [],
   "source": [
    "!git remote add origin git@github.com:Sbanerjee3219/Trendytech-Assignments.git\n",
    "# git branch -M main\n",
    "# git push -u origin main"
   ]
  },
  {
   "cell_type": "code",
   "execution_count": 20,
   "id": "011220a6",
   "metadata": {},
   "outputs": [],
   "source": [
    "spark.stop()"
   ]
  },
  {
   "cell_type": "code",
   "execution_count": null,
   "id": "5827a580",
   "metadata": {},
   "outputs": [],
   "source": []
  }
 ],
 "metadata": {
  "kernelspec": {
   "display_name": "Pyspark 2",
   "language": "python",
   "name": "pyspark2"
  },
  "language_info": {
   "codemirror_mode": {
    "name": "ipython",
    "version": 3
   },
   "file_extension": ".py",
   "mimetype": "text/x-python",
   "name": "python",
   "nbconvert_exporter": "python",
   "pygments_lexer": "ipython3",
   "version": "3.6.12"
  }
 },
 "nbformat": 4,
 "nbformat_minor": 5
}
